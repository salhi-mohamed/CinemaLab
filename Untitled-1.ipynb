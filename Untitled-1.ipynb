{
 "cells": [
  {
   "cell_type": "markdown",
   "id": "652c4215",
   "metadata": {},
   "source": [
    "## Data loading & describing"
   ]
  },
  {
   "cell_type": "code",
   "execution_count": null,
   "id": "f9b20f29",
   "metadata": {},
   "outputs": [
    {
     "name": "stdout",
     "output_type": "stream",
     "text": [
      "\n",
      "Dimensions du dataset : (4380, 14)\n"
     ]
    }
   ],
   "source": [
    "\n",
    "\n",
    "import pandas as pd\n",
    "import numpy as np\n",
    "import matplotlib.pyplot as plt\n",
    "import seaborn as sns\n",
    "\n",
    "\n",
    "# Charger le dataset\n",
    "df = pd.read_csv('data.csv')\n",
    "df.describe()\n",
    "# Dimensions du dataset (vérifier si ≤ 500 lignes)\n"
   ]
  },
  {
   "cell_type": "code",
   "execution_count": null,
   "id": "0690179f",
   "metadata": {},
   "outputs": [],
   "source": []
  }
 ],
 "metadata": {
  "kernelspec": {
   "display_name": "Python 3",
   "language": "python",
   "name": "python3"
  },
  "language_info": {
   "codemirror_mode": {
    "name": "ipython",
    "version": 3
   },
   "file_extension": ".py",
   "mimetype": "text/x-python",
   "name": "python",
   "nbconvert_exporter": "python",
   "pygments_lexer": "ipython3",
   "version": "3.12.8"
  }
 },
 "nbformat": 4,
 "nbformat_minor": 5
}
